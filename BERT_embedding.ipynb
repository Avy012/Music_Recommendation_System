{
 "cells": [
  {
   "cell_type": "code",
   "execution_count": 1,
   "id": "f0c74386",
   "metadata": {},
   "outputs": [
    {
     "name": "stderr",
     "output_type": "stream",
     "text": [
      "C:\\Users\\kist0\\AppData\\Local\\Packages\\PythonSoftwareFoundation.Python.3.10_qbz5n2kfra8p0\\LocalCache\\local-packages\\Python310\\site-packages\\tqdm\\auto.py:21: TqdmWarning: IProgress not found. Please update jupyter and ipywidgets. See https://ipywidgets.readthedocs.io/en/stable/user_install.html\n",
      "  from .autonotebook import tqdm as notebook_tqdm\n"
     ]
    }
   ],
   "source": [
    "import pandas as pd\n",
    "import numpy as np\n",
    "import random\n",
    "import os\n",
    "import gc\n",
    "from tqdm import tqdm\n",
    "\n",
    "# Transformers\n",
    "import torch\n",
    "from transformers import AutoTokenizer, AutoModel"
   ]
  },
  {
   "cell_type": "code",
   "execution_count": 16,
   "id": "dce643d6",
   "metadata": {},
   "outputs": [],
   "source": [
    "# 시드 고정\n",
    "\n",
    "def seed_everything(seed: int=42):\n",
    "  random.seed(seed)\n",
    "  np.random.seed(seed)\n",
    "  os.environ['PYTHONASHSEED'] = str(seed)\n",
    "\n",
    "my_seed = 42\n",
    "seed_everything(my_seed)\n",
    "\n",
    "# 파일 경로 설정\n",
    "review_path = \"balanced_lyrics.csv\""
   ]
  },
  {
   "cell_type": "code",
   "execution_count": null,
   "id": "2f5b56a1",
   "metadata": {},
   "outputs": [],
   "source": [
    "#BERT 토크나이저 및 모델 불러오기\n",
    "bert_tokenizer = AutoTokenizer.from_pretrained(\"bert-base-uncased\")\n",
    "bert_model = AutoModel.from_pretrained(\"bert-base-uncased\")"
   ]
  },
  {
   "cell_type": "code",
   "execution_count": null,
   "id": "4151a189",
   "metadata": {},
   "outputs": [],
   "source": [
    "def Tokenize(text_list, tokenizer, model, batch_size: int):\n",
    "    device = torch.device(\"cuda\" if torch.cuda.is_available() else \"cpu\") \n",
    "    model = model.to(device).eval() \n",
    "    embeddings = []\n",
    "\n",
    "    for i in tqdm(range(0, len(text_list), batch_size)): # 배치사이즈는 꼭 팀원 모두 동일하게 진행할것\n",
    "        batch_texts = text_list[i:i + batch_size] \n",
    "\n",
    "        inputs = tokenizer(\n",
    "            batch_texts,\n",
    "            return_tensors='pt',\n",
    "            padding=True,\n",
    "            truncation=True,\n",
    "            max_length=512\n",
    "        )\n",
    "        inputs = {k: v.to(device) for k, v in inputs.items()}\n",
    "\n",
    "        with torch.no_grad():\n",
    "            outputs = model(**inputs)\n",
    "            cls_embeddings = outputs.last_hidden_state[:, 0, :]\n",
    "            embeddings.append(cls_embeddings.cpu())\n",
    "\n",
    "        torch.cuda.empty_cache()\n",
    "\n",
    "    all_embeddings = torch.cat(embeddings, dim=0).numpy().tolist()\n",
    "    del inputs, outputs, cls_embeddings\n",
    "    gc.collect()\n",
    "    torch.cuda.empty_cache()\n",
    "\n",
    "    return all_embeddings"
   ]
  },
  {
   "cell_type": "code",
   "execution_count": 6,
   "id": "96e25e79",
   "metadata": {},
   "outputs": [],
   "source": [
    "def bert(df, column_name='text', batch_size=1):\n",
    "\n",
    "    print(\"BERT Embedding Start\")\n",
    "    bert_emb = Tokenize(df[column_name].tolist(), bert_tokenizer, bert_model, batch_size)\n",
    "\n",
    "    df['bert_emb'] = bert_emb\n",
    "    return df"
   ]
  },
  {
   "cell_type": "code",
   "execution_count": 17,
   "id": "da3cb2b4",
   "metadata": {},
   "outputs": [
    {
     "name": "stdout",
     "output_type": "stream",
     "text": [
      "(104098, 18)\n"
     ]
    },
    {
     "data": {
      "text/html": [
       "<div>\n",
       "<style scoped>\n",
       "    .dataframe tbody tr th:only-of-type {\n",
       "        vertical-align: middle;\n",
       "    }\n",
       "\n",
       "    .dataframe tbody tr th {\n",
       "        vertical-align: top;\n",
       "    }\n",
       "\n",
       "    .dataframe thead th {\n",
       "        text-align: right;\n",
       "    }\n",
       "</style>\n",
       "<table border=\"1\" class=\"dataframe\">\n",
       "  <thead>\n",
       "    <tr style=\"text-align: right;\">\n",
       "      <th></th>\n",
       "      <th>track_uri</th>\n",
       "      <th>track_name</th>\n",
       "      <th>artist</th>\n",
       "      <th>user_id</th>\n",
       "      <th>duration_ms</th>\n",
       "      <th>danceability</th>\n",
       "      <th>energy</th>\n",
       "      <th>key</th>\n",
       "      <th>loudness</th>\n",
       "      <th>mode</th>\n",
       "      <th>speechiness</th>\n",
       "      <th>acousticness</th>\n",
       "      <th>instrumentalness</th>\n",
       "      <th>liveness</th>\n",
       "      <th>valence</th>\n",
       "      <th>tempo</th>\n",
       "      <th>lyrics</th>\n",
       "      <th>like</th>\n",
       "    </tr>\n",
       "  </thead>\n",
       "  <tbody>\n",
       "    <tr>\n",
       "      <th>0</th>\n",
       "      <td>0qCQg5TkfBfkTsQP3IhAmC</td>\n",
       "      <td>Southside Of Heaven</td>\n",
       "      <td>Ryan Bingham</td>\n",
       "      <td>95797a27c7ec61a04f0c9437448eee7233e8a456</td>\n",
       "      <td>379160</td>\n",
       "      <td>0.387</td>\n",
       "      <td>0.499</td>\n",
       "      <td>7</td>\n",
       "      <td>-10.207</td>\n",
       "      <td>1</td>\n",
       "      <td>0.0259</td>\n",
       "      <td>0.002900</td>\n",
       "      <td>0.003730</td>\n",
       "      <td>0.0695</td>\n",
       "      <td>0.333</td>\n",
       "      <td>111.032</td>\n",
       "      <td>When I die, Lord, oh, won't you put my soul up...</td>\n",
       "      <td>0</td>\n",
       "    </tr>\n",
       "    <tr>\n",
       "      <th>1</th>\n",
       "      <td>5B3UjDMiCwWFgnXqt0isd5</td>\n",
       "      <td>Martin Sheen Or JFK</td>\n",
       "      <td>Yellowcard</td>\n",
       "      <td>2e91726a1f802c680a8499544edc3561ce50b965</td>\n",
       "      <td>226746</td>\n",
       "      <td>0.256</td>\n",
       "      <td>0.756</td>\n",
       "      <td>2</td>\n",
       "      <td>-5.395</td>\n",
       "      <td>1</td>\n",
       "      <td>0.0390</td>\n",
       "      <td>0.000128</td>\n",
       "      <td>0.000000</td>\n",
       "      <td>0.1160</td>\n",
       "      <td>0.268</td>\n",
       "      <td>197.512</td>\n",
       "      <td>Here it is\\n One more glass for these broken h...</td>\n",
       "      <td>0</td>\n",
       "    </tr>\n",
       "    <tr>\n",
       "      <th>2</th>\n",
       "      <td>23qnota5Iyg4f9LNdNIC1D</td>\n",
       "      <td>Televators</td>\n",
       "      <td>The Mars Volta</td>\n",
       "      <td>aafd6caf4b6dad692dd93623cc5c4e5b5a919600</td>\n",
       "      <td>378786</td>\n",
       "      <td>0.306</td>\n",
       "      <td>0.541</td>\n",
       "      <td>11</td>\n",
       "      <td>-8.195</td>\n",
       "      <td>0</td>\n",
       "      <td>0.0383</td>\n",
       "      <td>0.457000</td>\n",
       "      <td>0.000006</td>\n",
       "      <td>0.1220</td>\n",
       "      <td>0.183</td>\n",
       "      <td>122.041</td>\n",
       "      <td>Just as he hit\\n The ground\\n They lowered a t...</td>\n",
       "      <td>0</td>\n",
       "    </tr>\n",
       "    <tr>\n",
       "      <th>3</th>\n",
       "      <td>2sy0icOIskeP2lCqgZiTyE</td>\n",
       "      <td>Talk Show Host</td>\n",
       "      <td>Radiohead</td>\n",
       "      <td>28b78e314a00f86e24ae7ab1e40392861fbdc5a1</td>\n",
       "      <td>281000</td>\n",
       "      <td>0.535</td>\n",
       "      <td>0.479</td>\n",
       "      <td>5</td>\n",
       "      <td>-14.112</td>\n",
       "      <td>0</td>\n",
       "      <td>0.0311</td>\n",
       "      <td>0.277000</td>\n",
       "      <td>0.028500</td>\n",
       "      <td>0.1390</td>\n",
       "      <td>0.504</td>\n",
       "      <td>88.841</td>\n",
       "      <td>I want to\\n I want to be someone else or I'll ...</td>\n",
       "      <td>0</td>\n",
       "    </tr>\n",
       "    <tr>\n",
       "      <th>4</th>\n",
       "      <td>19olraJp56OeGTQSZwLZc1</td>\n",
       "      <td>Dying Inside</td>\n",
       "      <td>Saint Vitus</td>\n",
       "      <td>8c5d4fe93b5eebbbbe5b80fdac548920c08c395c</td>\n",
       "      <td>445126</td>\n",
       "      <td>0.313</td>\n",
       "      <td>0.406</td>\n",
       "      <td>1</td>\n",
       "      <td>-14.754</td>\n",
       "      <td>1</td>\n",
       "      <td>0.0347</td>\n",
       "      <td>0.027800</td>\n",
       "      <td>0.000437</td>\n",
       "      <td>0.1250</td>\n",
       "      <td>0.218</td>\n",
       "      <td>112.856</td>\n",
       "      <td>I have got to change my ways\\n 'Cause I'm losi...</td>\n",
       "      <td>0</td>\n",
       "    </tr>\n",
       "  </tbody>\n",
       "</table>\n",
       "</div>"
      ],
      "text/plain": [
       "                track_uri           track_name          artist  \\\n",
       "0  0qCQg5TkfBfkTsQP3IhAmC  Southside Of Heaven    Ryan Bingham   \n",
       "1  5B3UjDMiCwWFgnXqt0isd5  Martin Sheen Or JFK      Yellowcard   \n",
       "2  23qnota5Iyg4f9LNdNIC1D           Televators  The Mars Volta   \n",
       "3  2sy0icOIskeP2lCqgZiTyE       Talk Show Host       Radiohead   \n",
       "4  19olraJp56OeGTQSZwLZc1         Dying Inside     Saint Vitus   \n",
       "\n",
       "                                    user_id  duration_ms  danceability  \\\n",
       "0  95797a27c7ec61a04f0c9437448eee7233e8a456       379160         0.387   \n",
       "1  2e91726a1f802c680a8499544edc3561ce50b965       226746         0.256   \n",
       "2  aafd6caf4b6dad692dd93623cc5c4e5b5a919600       378786         0.306   \n",
       "3  28b78e314a00f86e24ae7ab1e40392861fbdc5a1       281000         0.535   \n",
       "4  8c5d4fe93b5eebbbbe5b80fdac548920c08c395c       445126         0.313   \n",
       "\n",
       "   energy  key  loudness  mode  speechiness  acousticness  instrumentalness  \\\n",
       "0   0.499    7   -10.207     1       0.0259      0.002900          0.003730   \n",
       "1   0.756    2    -5.395     1       0.0390      0.000128          0.000000   \n",
       "2   0.541   11    -8.195     0       0.0383      0.457000          0.000006   \n",
       "3   0.479    5   -14.112     0       0.0311      0.277000          0.028500   \n",
       "4   0.406    1   -14.754     1       0.0347      0.027800          0.000437   \n",
       "\n",
       "   liveness  valence    tempo  \\\n",
       "0    0.0695    0.333  111.032   \n",
       "1    0.1160    0.268  197.512   \n",
       "2    0.1220    0.183  122.041   \n",
       "3    0.1390    0.504   88.841   \n",
       "4    0.1250    0.218  112.856   \n",
       "\n",
       "                                              lyrics  like  \n",
       "0  When I die, Lord, oh, won't you put my soul up...     0  \n",
       "1  Here it is\\n One more glass for these broken h...     0  \n",
       "2  Just as he hit\\n The ground\\n They lowered a t...     0  \n",
       "3  I want to\\n I want to be someone else or I'll ...     0  \n",
       "4  I have got to change my ways\\n 'Cause I'm losi...     0  "
      ]
     },
     "execution_count": 17,
     "metadata": {},
     "output_type": "execute_result"
    }
   ],
   "source": [
    "balance_df = pd.read_csv(review_path , index_col=0)\n",
    "print(balance_df.shape)\n",
    "balance_df.head()"
   ]
  },
  {
   "cell_type": "code",
   "execution_count": 10,
   "id": "9c61a08f",
   "metadata": {},
   "outputs": [],
   "source": [
    "# Str로 타입 변경\n",
    "balance_df['lyrics'] = balance_df['lyrics'].astype(\"str\")"
   ]
  },
  {
   "cell_type": "code",
   "execution_count": 12,
   "id": "3357f662",
   "metadata": {},
   "outputs": [
    {
     "name": "stdout",
     "output_type": "stream",
     "text": [
      "\n",
      "==== df1 임베딩 시작 (0 ~ 5000) ====\n",
      "BERT Embedding Start\n"
     ]
    },
    {
     "name": "stderr",
     "output_type": "stream",
     "text": [
      "100%|██████████| 5000/5000 [12:21<00:00,  6.75it/s]\n"
     ]
    },
    {
     "name": "stdout",
     "output_type": "stream",
     "text": [
      "./lyrics_embeds/lyrics_emb_df1.csv 저장 완료\n",
      "\n",
      "==== df2 임베딩 시작 (5000 ~ 10000) ====\n",
      "BERT Embedding Start\n"
     ]
    },
    {
     "name": "stderr",
     "output_type": "stream",
     "text": [
      "100%|██████████| 5000/5000 [12:44<00:00,  6.54it/s]\n"
     ]
    },
    {
     "name": "stdout",
     "output_type": "stream",
     "text": [
      "./lyrics_embeds/lyrics_emb_df2.csv 저장 완료\n",
      "\n",
      "==== df3 임베딩 시작 (10000 ~ 15000) ====\n",
      "BERT Embedding Start\n"
     ]
    },
    {
     "name": "stderr",
     "output_type": "stream",
     "text": [
      "100%|██████████| 5000/5000 [12:55<00:00,  6.45it/s]\n"
     ]
    },
    {
     "name": "stdout",
     "output_type": "stream",
     "text": [
      "./lyrics_embeds/lyrics_emb_df3.csv 저장 완료\n",
      "\n",
      "==== df4 임베딩 시작 (15000 ~ 20000) ====\n",
      "BERT Embedding Start\n"
     ]
    },
    {
     "name": "stderr",
     "output_type": "stream",
     "text": [
      "100%|██████████| 5000/5000 [12:45<00:00,  6.53it/s]\n"
     ]
    },
    {
     "name": "stdout",
     "output_type": "stream",
     "text": [
      "./lyrics_embeds/lyrics_emb_df4.csv 저장 완료\n",
      "\n",
      "==== df5 임베딩 시작 (20000 ~ 25000) ====\n",
      "BERT Embedding Start\n"
     ]
    },
    {
     "name": "stderr",
     "output_type": "stream",
     "text": [
      "100%|██████████| 5000/5000 [12:53<00:00,  6.47it/s]\n"
     ]
    },
    {
     "name": "stdout",
     "output_type": "stream",
     "text": [
      "./lyrics_embeds/lyrics_emb_df5.csv 저장 완료\n",
      "\n",
      "==== df6 임베딩 시작 (25000 ~ 30000) ====\n",
      "BERT Embedding Start\n"
     ]
    },
    {
     "name": "stderr",
     "output_type": "stream",
     "text": [
      "100%|██████████| 5000/5000 [12:45<00:00,  6.53it/s]\n"
     ]
    },
    {
     "name": "stdout",
     "output_type": "stream",
     "text": [
      "./lyrics_embeds/lyrics_emb_df6.csv 저장 완료\n",
      "\n",
      "==== df7 임베딩 시작 (30000 ~ 35000) ====\n",
      "BERT Embedding Start\n"
     ]
    },
    {
     "name": "stderr",
     "output_type": "stream",
     "text": [
      "100%|██████████| 5000/5000 [12:46<00:00,  6.52it/s]\n"
     ]
    },
    {
     "name": "stdout",
     "output_type": "stream",
     "text": [
      "./lyrics_embeds/lyrics_emb_df7.csv 저장 완료\n",
      "\n",
      "==== df8 임베딩 시작 (35000 ~ 40000) ====\n",
      "BERT Embedding Start\n"
     ]
    },
    {
     "name": "stderr",
     "output_type": "stream",
     "text": [
      "100%|██████████| 5000/5000 [10:42<00:00,  7.79it/s]\n"
     ]
    },
    {
     "name": "stdout",
     "output_type": "stream",
     "text": [
      "./lyrics_embeds/lyrics_emb_df8.csv 저장 완료\n",
      "\n",
      "==== df9 임베딩 시작 (40000 ~ 45000) ====\n",
      "BERT Embedding Start\n"
     ]
    },
    {
     "name": "stderr",
     "output_type": "stream",
     "text": [
      "100%|██████████| 5000/5000 [10:15<00:00,  8.12it/s]\n"
     ]
    },
    {
     "name": "stdout",
     "output_type": "stream",
     "text": [
      "./lyrics_embeds/lyrics_emb_df9.csv 저장 완료\n",
      "\n",
      "==== df10 임베딩 시작 (45000 ~ 50000) ====\n",
      "BERT Embedding Start\n"
     ]
    },
    {
     "name": "stderr",
     "output_type": "stream",
     "text": [
      "100%|██████████| 5000/5000 [10:15<00:00,  8.13it/s]\n"
     ]
    },
    {
     "name": "stdout",
     "output_type": "stream",
     "text": [
      "./lyrics_embeds/lyrics_emb_df10.csv 저장 완료\n",
      "\n",
      "==== df11 임베딩 시작 (50000 ~ 55000) ====\n",
      "BERT Embedding Start\n"
     ]
    },
    {
     "name": "stderr",
     "output_type": "stream",
     "text": [
      "100%|██████████| 5000/5000 [12:10<00:00,  6.84it/s]\n"
     ]
    },
    {
     "name": "stdout",
     "output_type": "stream",
     "text": [
      "./lyrics_embeds/lyrics_emb_df11.csv 저장 완료\n",
      "\n",
      "==== df12 임베딩 시작 (55000 ~ 60000) ====\n",
      "BERT Embedding Start\n"
     ]
    },
    {
     "name": "stderr",
     "output_type": "stream",
     "text": [
      "100%|██████████| 5000/5000 [11:02<00:00,  7.54it/s]\n"
     ]
    },
    {
     "name": "stdout",
     "output_type": "stream",
     "text": [
      "./lyrics_embeds/lyrics_emb_df12.csv 저장 완료\n",
      "\n",
      "==== df13 임베딩 시작 (60000 ~ 65000) ====\n",
      "BERT Embedding Start\n"
     ]
    },
    {
     "name": "stderr",
     "output_type": "stream",
     "text": [
      "100%|██████████| 5000/5000 [10:22<00:00,  8.03it/s]\n"
     ]
    },
    {
     "name": "stdout",
     "output_type": "stream",
     "text": [
      "./lyrics_embeds/lyrics_emb_df13.csv 저장 완료\n",
      "\n",
      "==== df14 임베딩 시작 (65000 ~ 70000) ====\n",
      "BERT Embedding Start\n"
     ]
    },
    {
     "name": "stderr",
     "output_type": "stream",
     "text": [
      "100%|██████████| 5000/5000 [12:30<00:00,  6.66it/s]\n"
     ]
    },
    {
     "name": "stdout",
     "output_type": "stream",
     "text": [
      "./lyrics_embeds/lyrics_emb_df14.csv 저장 완료\n",
      "\n",
      "==== df15 임베딩 시작 (70000 ~ 75000) ====\n",
      "BERT Embedding Start\n"
     ]
    },
    {
     "name": "stderr",
     "output_type": "stream",
     "text": [
      "100%|██████████| 5000/5000 [10:14<00:00,  8.14it/s]\n"
     ]
    },
    {
     "name": "stdout",
     "output_type": "stream",
     "text": [
      "./lyrics_embeds/lyrics_emb_df15.csv 저장 완료\n",
      "\n",
      "==== df16 임베딩 시작 (75000 ~ 80000) ====\n",
      "BERT Embedding Start\n"
     ]
    },
    {
     "name": "stderr",
     "output_type": "stream",
     "text": [
      "100%|██████████| 5000/5000 [09:55<00:00,  8.39it/s]\n"
     ]
    },
    {
     "name": "stdout",
     "output_type": "stream",
     "text": [
      "./lyrics_embeds/lyrics_emb_df16.csv 저장 완료\n",
      "\n",
      "==== df17 임베딩 시작 (80000 ~ 85000) ====\n",
      "BERT Embedding Start\n"
     ]
    },
    {
     "name": "stderr",
     "output_type": "stream",
     "text": [
      "100%|██████████| 5000/5000 [11:51<00:00,  7.03it/s]\n"
     ]
    },
    {
     "name": "stdout",
     "output_type": "stream",
     "text": [
      "./lyrics_embeds/lyrics_emb_df17.csv 저장 완료\n",
      "\n",
      "==== df18 임베딩 시작 (85000 ~ 90000) ====\n",
      "BERT Embedding Start\n"
     ]
    },
    {
     "name": "stderr",
     "output_type": "stream",
     "text": [
      "100%|██████████| 5000/5000 [11:15<00:00,  7.40it/s]\n"
     ]
    },
    {
     "name": "stdout",
     "output_type": "stream",
     "text": [
      "./lyrics_embeds/lyrics_emb_df18.csv 저장 완료\n",
      "\n",
      "==== df19 임베딩 시작 (90000 ~ 95000) ====\n",
      "BERT Embedding Start\n"
     ]
    },
    {
     "name": "stderr",
     "output_type": "stream",
     "text": [
      "100%|██████████| 5000/5000 [10:21<00:00,  8.05it/s]\n"
     ]
    },
    {
     "name": "stdout",
     "output_type": "stream",
     "text": [
      "./lyrics_embeds/lyrics_emb_df19.csv 저장 완료\n",
      "\n",
      "==== df20 임베딩 시작 (95000 ~ 100000) ====\n",
      "BERT Embedding Start\n"
     ]
    },
    {
     "name": "stderr",
     "output_type": "stream",
     "text": [
      "100%|██████████| 5000/5000 [10:15<00:00,  8.12it/s]\n"
     ]
    },
    {
     "name": "stdout",
     "output_type": "stream",
     "text": [
      "./lyrics_embeds/lyrics_emb_df20.csv 저장 완료\n",
      "\n",
      "==== df21 임베딩 시작 (100000 ~ 104098) ====\n",
      "BERT Embedding Start\n"
     ]
    },
    {
     "name": "stderr",
     "output_type": "stream",
     "text": [
      "100%|██████████| 4098/4098 [08:03<00:00,  8.47it/s]\n"
     ]
    },
    {
     "name": "stdout",
     "output_type": "stream",
     "text": [
      "./lyrics_embeds/lyrics_emb_df21.csv 저장 완료\n"
     ]
    }
   ],
   "source": [
    "# 컴퓨터 성능에 따라, 파트 분담에 따라 조절 \n",
    "# 0:5000, 5000:10000 이런 식 (0~4999 5천개, 5000~9999 5천개 ...) \n",
    "start = 0\n",
    "end = 104098\n",
    "chunk_size = 5000\n",
    "num = 1\n",
    "\n",
    "while start < end:\n",
    "    chunk_end = min(start + chunk_size, end)\n",
    "    name = f\"df{num}\"\n",
    "    \n",
    "    print(f\"\\n==== {name} 임베딩 시작 ({start} ~ {chunk_end}) ====\")\n",
    "    sub_df = balance_df[start:chunk_end].copy()\n",
    "    \n",
    "    sub_df = bert(sub_df, column_name='lyrics', batch_size=1)\n",
    "\n",
    "    save_path = f\"./lyrics_embeds/lyrics_emb_{name}.csv\"  # 저장 경로 설정\n",
    "    sub_df.to_csv(save_path)\n",
    "    \n",
    "    print(f\"{save_path} 저장 완료\")\n",
    "    \n",
    "    start += chunk_size\n",
    "    num += 1"
   ]
  },
  {
   "cell_type": "code",
   "execution_count": 7,
   "id": "53415991",
   "metadata": {},
   "outputs": [],
   "source": [
    "# 만든 csv 파일들 합치기\n",
    "\n",
    "all = []\n",
    "for i in range(1, 22):\n",
    "    df_part = pd.read_csv(f\"./lyrics_embeds/lyrics_emb_df{i}.csv\", index_col=0)\n",
    "    all.append(df_part)\n",
    "\n",
    "df_full = pd.concat(all).reset_index(drop=True)"
   ]
  },
  {
   "cell_type": "code",
   "execution_count": null,
   "id": "f66d1fc6",
   "metadata": {},
   "outputs": [
    {
     "name": "stdout",
     "output_type": "stream",
     "text": [
      "./lyrics_embeds/emb_all.csv 저장 완료\n"
     ]
    }
   ],
   "source": [
    "# 합친파일 내보내기\n",
    "\n",
    "save_path = f\"./lyrics_embeds/emb_all_.csv\"\n",
    "df_full.to_csv(save_path)\n",
    "print(f\"{save_path} 저장 완료\")"
   ]
  }
 ],
 "metadata": {
  "kernelspec": {
   "display_name": "Python 3",
   "language": "python",
   "name": "python3"
  },
  "language_info": {
   "codemirror_mode": {
    "name": "ipython",
    "version": 3
   },
   "file_extension": ".py",
   "mimetype": "text/x-python",
   "name": "python",
   "nbconvert_exporter": "python",
   "pygments_lexer": "ipython3",
   "version": "3.10.11"
  }
 },
 "nbformat": 4,
 "nbformat_minor": 5
}
